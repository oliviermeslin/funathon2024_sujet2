{
 "cells": [
  {
   "cell_type": "code",
   "execution_count": null,
   "metadata": {},
   "outputs": [],
   "source": [
    "import yaml\n",
    "import os\n",
    "\n",
    "def create_data_list(source_file):\n",
    "    with open(source_file, \"r\") as my_file:\n",
    "        sources = yaml.safe_load(my_file)\n",
    "    return(sources)\n",
    "\n",
    "sources = create_data_list(source_file = \"sources.yml\")"
   ]
  },
  {
   "cell_type": "code",
   "execution_count": null,
   "metadata": {},
   "outputs": [],
   "source": [
    "urls = create_data_list(\"sources.yml\")"
   ]
  },
  {
   "cell_type": "code",
   "execution_count": null,
   "metadata": {},
   "outputs": [],
   "source": [
    "list(urls['airports'].values())"
   ]
  },
  {
   "cell_type": "code",
   "execution_count": null,
   "metadata": {},
   "outputs": [],
   "source": [
    "import pandas as pd\n",
    "\n",
    "data = pd.read_csv(\n",
    "    list(urls['airports'].values())[0],\n",
    "    sep = \";\",\n",
    "    dtype = {\n",
    "    \"ANMOIS\": \"str\",  \n",
    "    \"APT\": \"str\",     \n",
    "    \"APT_NOM\": \"str\", \n",
    "    \"APT_ZON\": \"str\",\n",
    "}\n",
    ")\n",
    "data[\"an\"] = data[\"ANMOIS\"].str.slice(stop = 4)\n",
    "data[\"mois\"] = data[\"ANMOIS\"].str.slice(start = 4)\n"
   ]
  },
  {
   "cell_type": "code",
   "execution_count": null,
   "metadata": {},
   "outputs": [],
   "source": [
    "def clean_dataframe(df):\n",
    "\n",
    "    df[\"an\"] = df[\"ANMOIS\"].str.slice(stop = 4)\n",
    "    df[\"mois\"] = df[\"ANMOIS\"].str.slice(start = 4)\n",
    "\n",
    "    # Remove leading zeros from 'mois' column\n",
    "    df['mois'] = df['mois'].str.replace(r'^0+', '', regex=True)\n",
    "    \n",
    "    data.columns = [x.lower() for x in data.columns]\n",
    "\n",
    "    return(df)"
   ]
  },
  {
   "cell_type": "code",
   "execution_count": null,
   "metadata": {},
   "outputs": [],
   "source": [
    "def import_airport_data(list_files):\n",
    "    # Define the data types for each column\n",
    "    col_types = {\n",
    "        \"ANMOIS\": \"str\",\n",
    "        \"APT\": \"str\",     # equivalent to col_character()\n",
    "        \"APT_NOM\": \"str\", # equivalent to col_character()\n",
    "        \"APT_ZON\": \"str\", # equivalent to col_character()\n",
    "    }\n",
    "\n",
    "    # Read the CSV file(s) with the specified column types\n",
    "    pax_apt_all = pd.concat([\n",
    "        pd.read_csv(file, delimiter = ';', dtype = col_types)\n",
    "        for file in list_files\n",
    "        ])\n",
    "\n",
    "    # Clean the DataFrame (assuming clean_dataframe is a predefined function)\n",
    "    pax_apt_all = clean_dataframe(pax_apt_all)\n",
    "\n",
    "    return pax_apt_all\n",
    "\n",
    "\n",
    "\n",
    "def import_compagnies_data(list_files):\n",
    "    # Define the data types for each column\n",
    "    col_types = {\n",
    "        \"ANMOIS\": \"str\",\n",
    "        \"CIE\": \"str\",\n",
    "        \"CIE_NOM\": \"str\",\n",
    "        \"CIE_NAT\": \"str\",\n",
    "        \"CIE_PAYS\": \"str\"\n",
    "    }\n",
    "\n",
    "    # Read the CSV file(s) with the specified column types\n",
    "    pax_cie_all = pd.concat([\n",
    "        pd.read_csv(file, delimiter = ';', dtype = col_types)\n",
    "        for file in list_files\n",
    "        ])\n",
    "\n",
    "    # Clean the DataFrame (assuming clean_dataframe is a predefined function)\n",
    "    pax_cie_all = clean_dataframe(pax_cie_all)\n",
    "\n",
    "\n",
    "    return pax_cie_all\n",
    "\n",
    "\n",
    "def import_liaisons_data(list_files):\n",
    "    # Define the data types for each column\n",
    "    col_types = {\n",
    "        \"ANMOIS\": \"str\",\n",
    "        \"LSN\": \"str\",\n",
    "        \"LSN_DEP_NOM\": \"str\",\n",
    "        \"LSN_ARR_NOM\": \"str\",\n",
    "        \"LSN_SCT\": \"str\",\n",
    "        \"LSN_FSC\": \"str\"\n",
    "    }\n",
    "\n",
    "    # Read the CSV file(s) with the specified column types\n",
    "    pax_lsn_all = pd.concat([\n",
    "        pd.read_csv(file, delimiter = ';', dtype = col_types)\n",
    "        for file in list_files\n",
    "        ])\n",
    "\n",
    "    # Clean the DataFrame\n",
    "    pax_lsn_all = clean_dataframe(pax_lsn_all)\n",
    "\n",
    "    return pax_lsn_all\n"
   ]
  },
  {
   "cell_type": "code",
   "execution_count": null,
   "metadata": {},
   "outputs": [],
   "source": [
    "defpax_apt_all = import_airport_data(list(urls['airports'].values()))\n",
    "pax_cie_all = import_compagnies_data(list(urls['compagnies'].values()))\n",
    "pax_lsn_all = import_liaisons_data(list(urls['liaisons'].values()))\n"
   ]
  },
  {
   "cell_type": "code",
   "execution_count": null,
   "metadata": {},
   "outputs": [],
   "source": [
    "import geopandas as gpd\n",
    "\n",
    "airports_location = gpd.read_file(urls['geojson']['airport'])"
   ]
  },
  {
   "cell_type": "code",
   "execution_count": null,
   "metadata": {},
   "outputs": [],
   "source": [
    "import folium \n",
    "m = folium.Map()\n",
    "\n",
    "folium.GeoJson(airports_location).add_to(m)\n",
    "m"
   ]
  },
  {
   "cell_type": "code",
   "execution_count": 31,
   "metadata": {},
   "outputs": [],
   "source": [
    "import src.import_data as sid"
   ]
  },
  {
   "cell_type": "code",
   "execution_count": null,
   "metadata": {},
   "outputs": [],
   "source": []
  },
  {
   "cell_type": "code",
   "execution_count": null,
   "metadata": {},
   "outputs": [],
   "source": []
  },
  {
   "cell_type": "code",
   "execution_count": null,
   "metadata": {},
   "outputs": [],
   "source": []
  },
  {
   "cell_type": "code",
   "execution_count": null,
   "metadata": {},
   "outputs": [],
   "source": []
  }
 ],
 "metadata": {
  "kernelspec": {
   "display_name": "base",
   "language": "python",
   "name": "python3"
  },
  "language_info": {
   "codemirror_mode": {
    "name": "ipython",
    "version": 3
   },
   "file_extension": ".py",
   "mimetype": "text/x-python",
   "name": "python",
   "nbconvert_exporter": "python",
   "pygments_lexer": "ipython3",
   "version": "3.12.3"
  }
 },
 "nbformat": 4,
 "nbformat_minor": 2
}
