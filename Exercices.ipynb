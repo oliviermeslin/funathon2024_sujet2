{
 "cells": [
  {
   "cell_type": "code",
   "execution_count": null,
   "metadata": {},
   "outputs": [],
   "source": [
    "import yaml\n",
    "import os\n",
    "\n",
    "def create_data_list(source_file):\n",
    "    with open(source_file, \"r\") as my_file:\n",
    "        sources = yaml.safe_load(my_file)\n",
    "    return(sources)\n",
    "\n",
    "sources = create_data_list(source_file = \"sources.yml\")"
   ]
  },
  {
   "cell_type": "code",
   "execution_count": null,
   "metadata": {},
   "outputs": [],
   "source": [
    "urls = create_data_list(\"sources.yml\")"
   ]
  },
  {
   "cell_type": "code",
   "execution_count": null,
   "metadata": {},
   "outputs": [],
   "source": [
    "list(urls['airports'].values())"
   ]
  },
  {
   "cell_type": "code",
   "execution_count": null,
   "metadata": {},
   "outputs": [],
   "source": [
    "import pandas as pd\n",
    "\n",
    "data = pd.read_csv(\n",
    "    list(urls['airports'].values())[0],\n",
    "    sep = \";\",\n",
    "    dtype = {\n",
    "    \"ANMOIS\": \"str\",  \n",
    "    \"APT\": \"str\",     \n",
    "    \"APT_NOM\": \"str\", \n",
    "    \"APT_ZON\": \"str\",\n",
    "}\n",
    ")\n",
    "data[\"an\"] = data[\"ANMOIS\"].str.slice(stop = 4)\n",
    "data[\"mois\"] = data[\"ANMOIS\"].str.slice(start = 4)\n"
   ]
  },
  {
   "cell_type": "code",
   "execution_count": null,
   "metadata": {},
   "outputs": [],
   "source": [
    "def clean_dataframe(df):\n",
    "\n",
    "    df[\"an\"] = df[\"ANMOIS\"].str.slice(stop = 4)\n",
    "    df[\"mois\"] = df[\"ANMOIS\"].str.slice(start = 4)\n",
    "\n",
    "    # Remove leading zeros from 'mois' column\n",
    "    df['mois'] = df['mois'].str.replace(r'^0+', '', regex=True)\n",
    "    \n",
    "    df.columns = [x.lower() for x in df.columns]\n",
    "\n",
    "    return(df)"
   ]
  },
  {
   "cell_type": "code",
   "execution_count": null,
   "metadata": {},
   "outputs": [],
   "source": [
    "def import_airport_data(list_files):\n",
    "    # Define the data types for each column\n",
    "    col_types = {\n",
    "        \"ANMOIS\": \"str\",\n",
    "        \"APT\": \"str\",     # equivalent to col_character()\n",
    "        \"APT_NOM\": \"str\", # equivalent to col_character()\n",
    "        \"APT_ZON\": \"str\", # equivalent to col_character()\n",
    "    }\n",
    "\n",
    "    # Read the CSV file(s) with the specified column types\n",
    "    pax_apt_all = pd.concat([\n",
    "        pd.read_csv(file, delimiter = ';', dtype = col_types)\n",
    "        for file in list_files\n",
    "        ])\n",
    "\n",
    "    # Clean the DataFrame (assuming clean_dataframe is a predefined function)\n",
    "    pax_apt_all = clean_dataframe(pax_apt_all)\n",
    "\n",
    "    return pax_apt_all\n",
    "\n",
    "\n",
    "\n",
    "def import_compagnies_data(list_files):\n",
    "    # Define the data types for each column\n",
    "    col_types = {\n",
    "        \"ANMOIS\": \"str\",\n",
    "        \"CIE\": \"str\",\n",
    "        \"CIE_NOM\": \"str\",\n",
    "        \"CIE_NAT\": \"str\",\n",
    "        \"CIE_PAYS\": \"str\"\n",
    "    }\n",
    "\n",
    "    # Read the CSV file(s) with the specified column types\n",
    "    pax_cie_all = pd.concat([\n",
    "        pd.read_csv(file, delimiter = ';', dtype = col_types)\n",
    "        for file in list_files\n",
    "        ])\n",
    "\n",
    "    # Clean the DataFrame (assuming clean_dataframe is a predefined function)\n",
    "    pax_cie_all = clean_dataframe(pax_cie_all)\n",
    "\n",
    "\n",
    "    return pax_cie_all\n",
    "\n",
    "\n",
    "def import_liaisons_data(list_files):\n",
    "    # Define the data types for each column\n",
    "    col_types = {\n",
    "        \"ANMOIS\": \"str\",\n",
    "        \"LSN\": \"str\",\n",
    "        \"LSN_DEP_NOM\": \"str\",\n",
    "        \"LSN_ARR_NOM\": \"str\",\n",
    "        \"LSN_SCT\": \"str\",\n",
    "        \"LSN_FSC\": \"str\"\n",
    "    }\n",
    "\n",
    "    # Read the CSV file(s) with the specified column types\n",
    "    pax_lsn_all = pd.concat([\n",
    "        pd.read_csv(file, delimiter = ';', dtype = col_types)\n",
    "        for file in list_files\n",
    "        ])\n",
    "\n",
    "    # Clean the DataFrame\n",
    "    pax_lsn_all = clean_dataframe(pax_lsn_all)\n",
    "\n",
    "    return pax_lsn_all\n"
   ]
  },
  {
   "cell_type": "code",
   "execution_count": null,
   "metadata": {},
   "outputs": [],
   "source": [
    "pax_apt_all = import_airport_data(list(urls['airports'].values()))\n",
    "pax_cie_all = import_compagnies_data(list(urls['compagnies'].values()))\n",
    "pax_lsn_all = import_liaisons_data(list(urls['liaisons'].values()))\n"
   ]
  },
  {
   "cell_type": "code",
   "execution_count": null,
   "metadata": {},
   "outputs": [],
   "source": [
    "import geopandas as gpd\n",
    "\n",
    "airports_location = gpd.read_file(urls['geojson']['airport'])"
   ]
  },
  {
   "cell_type": "code",
   "execution_count": null,
   "metadata": {},
   "outputs": [],
   "source": [
    "import folium \n",
    "m = folium.Map()\n",
    "\n",
    "folium.GeoJson(airports_location).add_to(m)\n",
    "m"
   ]
  },
  {
   "cell_type": "code",
   "execution_count": 45,
   "metadata": {},
   "outputs": [],
   "source": [
    "import src.import_data as sid"
   ]
  },
  {
   "cell_type": "code",
   "execution_count": 46,
   "metadata": {},
   "outputs": [
    {
     "data": {
      "text/html": [
       "<div>\n",
       "<style scoped>\n",
       "    .dataframe tbody tr th:only-of-type {\n",
       "        vertical-align: middle;\n",
       "    }\n",
       "\n",
       "    .dataframe tbody tr th {\n",
       "        vertical-align: top;\n",
       "    }\n",
       "\n",
       "    .dataframe thead th {\n",
       "        text-align: right;\n",
       "    }\n",
       "</style>\n",
       "<table border=\"1\" class=\"dataframe\">\n",
       "  <thead>\n",
       "    <tr style=\"text-align: right;\">\n",
       "      <th></th>\n",
       "      <th>anmois</th>\n",
       "      <th>apt</th>\n",
       "      <th>apt_nom</th>\n",
       "      <th>apt_zon</th>\n",
       "      <th>apt_peq</th>\n",
       "      <th>apt_pax_dep</th>\n",
       "      <th>apt_pax_arr</th>\n",
       "      <th>apt_pax_tr</th>\n",
       "      <th>apt_frp_dep</th>\n",
       "      <th>apt_frp_arr</th>\n",
       "      <th>apt_nmvt_mxt</th>\n",
       "      <th>apt_nmvt_cgo</th>\n",
       "      <th>an</th>\n",
       "      <th>mois</th>\n",
       "    </tr>\n",
       "  </thead>\n",
       "  <tbody>\n",
       "    <tr>\n",
       "      <th>0</th>\n",
       "      <td>201801</td>\n",
       "      <td>FMCZ</td>\n",
       "      <td>MAYOTTE-MARCEL HENRY</td>\n",
       "      <td>OM</td>\n",
       "      <td>35209</td>\n",
       "      <td>13108</td>\n",
       "      <td>18977</td>\n",
       "      <td>1202</td>\n",
       "      <td>21,8</td>\n",
       "      <td>170,4</td>\n",
       "      <td>546</td>\n",
       "      <td>1</td>\n",
       "      <td>2018</td>\n",
       "      <td>1</td>\n",
       "    </tr>\n",
       "    <tr>\n",
       "      <th>1</th>\n",
       "      <td>201801</td>\n",
       "      <td>FMEE</td>\n",
       "      <td>LA REUNION-ROLAND GARROS</td>\n",
       "      <td>OM</td>\n",
       "      <td>269383</td>\n",
       "      <td>112430</td>\n",
       "      <td>127167</td>\n",
       "      <td>4768</td>\n",
       "      <td>743</td>\n",
       "      <td>1758,7</td>\n",
       "      <td>1149</td>\n",
       "      <td>16</td>\n",
       "      <td>2018</td>\n",
       "      <td>1</td>\n",
       "    </tr>\n",
       "    <tr>\n",
       "      <th>2</th>\n",
       "      <td>201801</td>\n",
       "      <td>FMEP</td>\n",
       "      <td>ST-PIERRE-PIERREFONDS</td>\n",
       "      <td>OM</td>\n",
       "      <td>13219</td>\n",
       "      <td>6034</td>\n",
       "      <td>7181</td>\n",
       "      <td>0</td>\n",
       "      <td>0</td>\n",
       "      <td>0,4</td>\n",
       "      <td>208</td>\n",
       "      <td>0</td>\n",
       "      <td>2018</td>\n",
       "      <td>1</td>\n",
       "    </tr>\n",
       "    <tr>\n",
       "      <th>3</th>\n",
       "      <td>201801</td>\n",
       "      <td>LFAQ</td>\n",
       "      <td>ALBERT-BRAY</td>\n",
       "      <td>MT</td>\n",
       "      <td>2108</td>\n",
       "      <td>119</td>\n",
       "      <td>124</td>\n",
       "      <td>0</td>\n",
       "      <td>108</td>\n",
       "      <td>78,5</td>\n",
       "      <td>32</td>\n",
       "      <td>15</td>\n",
       "      <td>2018</td>\n",
       "      <td>1</td>\n",
       "    </tr>\n",
       "    <tr>\n",
       "      <th>4</th>\n",
       "      <td>201801</td>\n",
       "      <td>LFBA</td>\n",
       "      <td>AGEN-LA GARENNE</td>\n",
       "      <td>MT</td>\n",
       "      <td>2513</td>\n",
       "      <td>1335</td>\n",
       "      <td>1178</td>\n",
       "      <td>0</td>\n",
       "      <td>0</td>\n",
       "      <td>0</td>\n",
       "      <td>131</td>\n",
       "      <td>0</td>\n",
       "      <td>2018</td>\n",
       "      <td>1</td>\n",
       "    </tr>\n",
       "  </tbody>\n",
       "</table>\n",
       "</div>"
      ],
      "text/plain": [
       "   anmois   apt                   apt_nom apt_zon  apt_peq  apt_pax_dep  \\\n",
       "0  201801  FMCZ      MAYOTTE-MARCEL HENRY      OM    35209        13108   \n",
       "1  201801  FMEE  LA REUNION-ROLAND GARROS      OM   269383       112430   \n",
       "2  201801  FMEP     ST-PIERRE-PIERREFONDS      OM    13219         6034   \n",
       "3  201801  LFAQ               ALBERT-BRAY      MT     2108          119   \n",
       "4  201801  LFBA           AGEN-LA GARENNE      MT     2513         1335   \n",
       "\n",
       "   apt_pax_arr  apt_pax_tr apt_frp_dep apt_frp_arr  apt_nmvt_mxt  \\\n",
       "0        18977        1202        21,8       170,4           546   \n",
       "1       127167        4768         743      1758,7          1149   \n",
       "2         7181           0           0         0,4           208   \n",
       "3          124           0         108        78,5            32   \n",
       "4         1178           0           0           0           131   \n",
       "\n",
       "   apt_nmvt_cgo    an mois  \n",
       "0             1  2018    1  \n",
       "1            16  2018    1  \n",
       "2             0  2018    1  \n",
       "3            15  2018    1  \n",
       "4             0  2018    1  "
      ]
     },
     "execution_count": 46,
     "metadata": {},
     "output_type": "execute_result"
    }
   ],
   "source": [
    "pax_apt_all.head()"
   ]
  },
  {
   "cell_type": "code",
   "execution_count": 47,
   "metadata": {},
   "outputs": [
    {
     "data": {
      "text/plain": [
       "'FMCZ'"
      ]
     },
     "execution_count": 47,
     "metadata": {},
     "output_type": "execute_result"
    }
   ],
   "source": [
    "liste_aeroports = pax_apt_all['apt'].unique()\n",
    "default_airport = liste_aeroports[0]\n",
    "default_airport"
   ]
  },
  {
   "cell_type": "code",
   "execution_count": null,
   "metadata": {},
   "outputs": [],
   "source": []
  },
  {
   "cell_type": "code",
   "execution_count": null,
   "metadata": {},
   "outputs": [],
   "source": []
  },
  {
   "cell_type": "code",
   "execution_count": null,
   "metadata": {},
   "outputs": [],
   "source": []
  }
 ],
 "metadata": {
  "kernelspec": {
   "display_name": "base",
   "language": "python",
   "name": "python3"
  },
  "language_info": {
   "codemirror_mode": {
    "name": "ipython",
    "version": 3
   },
   "file_extension": ".py",
   "mimetype": "text/x-python",
   "name": "python",
   "nbconvert_exporter": "python",
   "pygments_lexer": "ipython3",
   "version": "3.12.3"
  }
 },
 "nbformat": 4,
 "nbformat_minor": 2
}
